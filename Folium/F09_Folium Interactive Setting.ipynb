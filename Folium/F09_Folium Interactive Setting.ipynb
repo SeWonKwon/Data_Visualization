{
 "cells": [
  {
   "cell_type": "markdown",
   "metadata": {},
   "source": [
    "https://www.youtube.com/watch?v=Jt9nycjTGZs&list=PL7ZVZgsnLwEGR11m7oLOSa0pBWCc3TMaL&index=3"
   ]
  },
  {
   "cell_type": "markdown",
   "metadata": {},
   "source": [
    "https://www.google.co.kr/maps"
   ]
  },
  {
   "cell_type": "code",
   "execution_count": 1,
   "metadata": {
    "ExecuteTime": {
     "end_time": "2021-06-27T16:46:28.171512Z",
     "start_time": "2021-06-27T16:46:27.088479Z"
    },
    "id": "B7gC42v7kU8n",
    "scrolled": true
   },
   "outputs": [
    {
     "data": {
      "text/plain": [
       "'0.11.0'"
      ]
     },
     "execution_count": 1,
     "metadata": {},
     "output_type": "execute_result"
    }
   ],
   "source": [
    "import numpy as np\n",
    "import pandas as pd\n",
    "import json\n",
    "import requests\n",
    "import branca\n",
    "import folium\n",
    "\n",
    "folium.__version__"
   ]
  },
  {
   "cell_type": "markdown",
   "metadata": {
    "id": "O8Cy3xtdMmDF"
   },
   "source": [
    "## 대화형(Interactive)\n",
    "\n",
    "* OpenStreetMap\n",
    "* Stamen Terrain\n",
    "* Stamen Toner\n",
    "* Stamen Watercolor\n",
    "* CartoDB positron\n",
    "* CartoDB dark_matter"
   ]
  },
  {
   "cell_type": "code",
   "execution_count": 2,
   "metadata": {
    "ExecuteTime": {
     "end_time": "2021-06-27T16:46:28.246579Z",
     "start_time": "2021-06-27T16:46:28.172515Z"
    },
    "id": "a9swc-37Mhzu",
    "scrolled": false
   },
   "outputs": [
    {
     "data": {
      "application/vnd.jupyter.widget-view+json": {
       "model_id": "6ec600408f1642a7872598003dc4a5f6",
       "version_major": 2,
       "version_minor": 0
      },
      "text/plain": [
       "interactive(children=(FloatSlider(value=36.0, description='latitude', max=90.0, min=-90.0), FloatSlider(value=…"
      ]
     },
     "metadata": {},
     "output_type": "display_data"
    }
   ],
   "source": [
    "from ipywidgets import interact\n",
    "\n",
    "tiles = [name.strip() for name in \"\"\"\n",
    "    OpenStreetMap\n",
    "    Stamen Terrain\n",
    "    Stamen Toner\n",
    "    Stamen Watercolor\n",
    "    CartoDB positron\n",
    "    CartoDB dark_matter\"\"\".strip().split('\\n')]\n",
    "\n",
    "@interact(latitude=(-90., 90.), longitude=(-180., 180.), tiles=tiles, zoom=(1, 18))\n",
    "\n",
    "def create_map(latitude=36, longitude=127, tiles='Stamen Toner', zoom=7):\n",
    "    return folium.Map(location=[latitude, longitude], tiles=tiles, zoom_start=zoom)\n",
    "\n"
   ]
  },
  {
   "cell_type": "markdown",
   "metadata": {
    "id": "PHLpfn2ZRAI8"
   },
   "source": [
    " ## 참고문헌\n",
    "\n",
    " * https://python-visualization.github.io/folium/"
   ]
  }
 ],
 "metadata": {
  "colab": {
   "collapsed_sections": [],
   "name": "_Folium 한번에 제대로 배우기.ipynb",
   "provenance": [],
   "toc_visible": true
  },
  "kernelspec": {
   "display_name": "Python 3",
   "language": "python",
   "name": "python3"
  },
  "language_info": {
   "codemirror_mode": {
    "name": "ipython",
    "version": 3
   },
   "file_extension": ".py",
   "mimetype": "text/x-python",
   "name": "python",
   "nbconvert_exporter": "python",
   "pygments_lexer": "ipython3",
   "version": "3.8.5"
  },
  "toc": {
   "base_numbering": 1,
   "nav_menu": {},
   "number_sections": true,
   "sideBar": true,
   "skip_h1_title": false,
   "title_cell": "Table of Contents",
   "title_sidebar": "Contents",
   "toc_cell": false,
   "toc_position": {
    "height": "calc(100% - 180px)",
    "left": "10px",
    "top": "150px",
    "width": "379.387px"
   },
   "toc_section_display": true,
   "toc_window_display": true
  }
 },
 "nbformat": 4,
 "nbformat_minor": 1
}
