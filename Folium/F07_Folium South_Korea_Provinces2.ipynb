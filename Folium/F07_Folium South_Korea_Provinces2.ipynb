{
 "cells": [
  {
   "cell_type": "markdown",
   "metadata": {},
   "source": [
    "https://www.youtube.com/watch?v=Jt9nycjTGZs&list=PL7ZVZgsnLwEGR11m7oLOSa0pBWCc3TMaL&index=3"
   ]
  },
  {
   "cell_type": "markdown",
   "metadata": {},
   "source": [
    "https://www.google.co.kr/maps"
   ]
  },
  {
   "cell_type": "code",
   "execution_count": null,
   "metadata": {
    "ExecuteTime": {
     "end_time": "2021-06-27T16:49:43.905686Z",
     "start_time": "2021-06-27T16:49:42.764644Z"
    },
    "id": "B7gC42v7kU8n",
    "scrolled": true
   },
   "outputs": [],
   "source": [
    "import numpy as np\n",
    "import pandas as pd\n",
    "import json\n",
    "import requests\n",
    "import branca\n",
    "import folium\n",
    "\n",
    "folium.__version__"
   ]
  },
  {
   "cell_type": "markdown",
   "metadata": {
    "id": "trmYObJyz2F2"
   },
   "source": [
    "# GeoJson, TopoJson, Choropleth maps"
   ]
  },
  {
   "cell_type": "markdown",
   "metadata": {
    "id": "Mggb32BJF3UP"
   },
   "source": [
    "* South Korea github: https://github.com/southkorea\n",
    "* 국가통계포털: http://kosis.kr\n",
    "* 행정구역 지도: https://raw.githubusercontent.com/suanlab/dataset/master/skorea-municipalities-2018-geo.json\n",
    "* 행정구역 인구수: https://raw.githubusercontent.com/suanlab/dataset/master/skorea_municipalities_population.csv"
   ]
  },
  {
   "cell_type": "code",
   "execution_count": null,
   "metadata": {
    "ExecuteTime": {
     "end_time": "2021-06-27T16:49:44.448773Z",
     "start_time": "2021-06-27T16:49:43.906686Z"
    },
    "id": "z-_MvqSveGNX"
   },
   "outputs": [],
   "source": [
    "url='https://raw.githubusercontent.com/suanlab/dataset/master'\n",
    "skorea_municipalities_geo = f'{url}/skorea-municipalities-2018-geo.json'\n",
    "skorea_municipalities_population = f'{url}/skorea_municipalities_population.csv'\n",
    "skorea_municipalities_data = pd.read_csv(skorea_municipalities_population, encoding='utf-8')\n",
    "\n",
    "skorea_municipalities_data.head(3)"
   ]
  },
  {
   "cell_type": "code",
   "execution_count": null,
   "metadata": {
    "ExecuteTime": {
     "end_time": "2021-06-27T16:49:48.281753Z",
     "start_time": "2021-06-27T16:49:44.449774Z"
    },
    "id": "P4-7BMqzLEup",
    "scrolled": false
   },
   "outputs": [],
   "source": [
    "m = folium.Map(\n",
    "        location=[36.34121012071872, 127.93368519039572],\n",
    "         zoom_start=6)\n",
    "\n",
    "folium.GeoJson(\n",
    "    skorea_municipalities_geo,\n",
    "    name='South Korea Municipalities'\n",
    ").add_to(m)\n",
    "\n",
    "m"
   ]
  },
  {
   "cell_type": "code",
   "execution_count": null,
   "metadata": {
    "ExecuteTime": {
     "end_time": "2021-06-27T16:49:52.172983Z",
     "start_time": "2021-06-27T16:49:48.282754Z"
    },
    "id": "CUwclGnOF3uC",
    "scrolled": false
   },
   "outputs": [],
   "source": [
    "m = folium.Map(\n",
    "        location=[36.34121012071872, 127.93368519039572],\n",
    "         zoom_start=6)\n",
    "\n",
    "folium.Choropleth(\n",
    "        geo_data=skorea_municipalities_geo,\n",
    "        data=skorea_municipalities_data,\n",
    "        columns=['name', 'population'],\n",
    "        key_on='feature.properties.name',\n",
    "        fill_color='Reds',\n",
    "        fill_opacity=0.6,\n",
    "        line_opacity=0.4,\n",
    "        legend_name='Population'\n",
    ").add_to(m)\n",
    "\n",
    "m"
   ]
  },
  {
   "cell_type": "markdown",
   "metadata": {
    "id": "PHLpfn2ZRAI8"
   },
   "source": [
    " ## 참고문헌\n",
    "\n",
    " * https://python-visualization.github.io/folium/"
   ]
  }
 ],
 "metadata": {
  "colab": {
   "collapsed_sections": [],
   "name": "_Folium 한번에 제대로 배우기.ipynb",
   "provenance": [],
   "toc_visible": true
  },
  "kernelspec": {
   "display_name": "Python 3",
   "language": "python",
   "name": "python3"
  },
  "language_info": {
   "codemirror_mode": {
    "name": "ipython",
    "version": 3
   },
   "file_extension": ".py",
   "mimetype": "text/x-python",
   "name": "python",
   "nbconvert_exporter": "python",
   "pygments_lexer": "ipython3",
   "version": "3.8.5"
  },
  "toc": {
   "base_numbering": 1,
   "nav_menu": {},
   "number_sections": true,
   "sideBar": true,
   "skip_h1_title": false,
   "title_cell": "Table of Contents",
   "title_sidebar": "Contents",
   "toc_cell": false,
   "toc_position": {
    "height": "calc(100% - 180px)",
    "left": "10px",
    "top": "150px",
    "width": "379.387px"
   },
   "toc_section_display": true,
   "toc_window_display": true
  }
 },
 "nbformat": 4,
 "nbformat_minor": 1
}
