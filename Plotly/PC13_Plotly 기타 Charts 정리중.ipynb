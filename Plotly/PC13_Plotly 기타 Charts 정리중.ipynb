{
 "cells": [
  {
   "cell_type": "markdown",
   "metadata": {},
   "source": [
    "http://plotly.com/python/"
   ]
  },
  {
   "cell_type": "code",
   "execution_count": 1,
   "metadata": {
    "ExecuteTime": {
     "end_time": "2021-06-27T16:02:18.600552Z",
     "start_time": "2021-06-27T16:02:17.702694Z"
    },
    "id": "L7WIOcdCZeMU"
   },
   "outputs": [],
   "source": [
    "import numpy as np\n",
    "import pandas as pd\n",
    "from urllib.request import urlopen\n",
    "import json\n",
    "import plotly.io as pio\n",
    "import plotly.express as px\n",
    "import plotly.graph_objects as go\n",
    "import plotly.figure_factory as ff\n",
    "from plotly.subplots import make_subplots\n",
    "from plotly.validators.scatter.marker import SymbolsrcValidator\n"
   ]
  },
  {
   "cell_type": "markdown",
   "metadata": {
    "id": "ZXpo55RGqNde"
   },
   "source": [
    "### 기타 차트\n",
    "\n",
    "* 간트 차트(Gantt Charts): https://plotly.com/python/gantt/\n",
    "* 테이블(Tables): https://plotly.com/python/table/\n",
    "* 생키 다이어그램(Sankey Diagram): https://plotly.com/python/sankey-diagram/\n",
    "* 트리맵(Treemap): https://plotly.com/python/treemaps/\n",
    "* 트리플롯(Tree-plots): https://plotly.com/python/tree-plots/\n",
    "* 3차 플롯(Ternary Plots): https://plotly.com/python/ternary-plots/\n",
    "* 3차 오버레이(Ternary Overlay): https://plotly.com/python/ternary-scatter-contour/\n",
    "* 3차 등고선(Ternary Contours): https://plotly.com/python/ternary-contour/\n",
    "* 이미지쇼(Image Show): https://plotly.com/python/imshow/\n",
    "* Quiver Plots: https://plotly.com/python/quiver-plots/\n",
    "* 스트림라인 플롯(Streamline Plots): https://plotly.com/python/streamline-plots/\n",
    "* 카펫 플롯(Carpet Plots): https://plotly.com/python/carpet-plot/\n",
    "* 카펫 등고선(Carpet Contour Plot): https://plotly.com/python/carpet-contour/\n",
    "* 카펫 산점도(Carpet Scatter Plot): https://plotly.com/python/carpet-scatter/\n",
    "* 네트워크 그래프(Network Graphs): https://plotly.com/python/network-graphs/\n",
    "* 깔대기 차트(Funnel Chart): https://plotly.com/python/funnel-charts/\n",
    "* 등고선 플롯(Contour Plot): https://plotly.com/python/contour-plots/\n",
    "* 2D 히스토그램 등고선(2D Histogram Contour): https://plotly.com/python/2d-histogram-contour/\n",
    "* Trisurf Plots: https://plotly.com/python/trisurf/\n",
    "* 3D Mesh Plots: https://plotly.com/python/3d-mesh/\n",
    "* 3D Isosurface Plots: https://plotly.com/python/3d-isosurface-plots/\n",
    "* 3D Volume Plots: https://plotly.com/python/3d-volume-plots/\n",
    "* 3D Cone Plots: https://plotly.com/python/cone-plot/\n",
    "* 3D Streamtube Plots: https://plotly.com/python/streamtube-plot/\n",
    "* 3D Camera Controls: https://plotly.com/python/3d-camera-controls/"
   ]
  }
 ],
 "metadata": {
  "colab": {
   "collapsed_sections": [],
   "name": "_Plotly 한번에 제대로 배우기.ipynb",
   "provenance": []
  },
  "kernelspec": {
   "display_name": "Python 3",
   "language": "python",
   "name": "python3"
  },
  "language_info": {
   "codemirror_mode": {
    "name": "ipython",
    "version": 3
   },
   "file_extension": ".py",
   "mimetype": "text/x-python",
   "name": "python",
   "nbconvert_exporter": "python",
   "pygments_lexer": "ipython3",
   "version": "3.8.5"
  },
  "toc": {
   "base_numbering": 1,
   "nav_menu": {},
   "number_sections": true,
   "sideBar": true,
   "skip_h1_title": false,
   "title_cell": "Table of Contents",
   "title_sidebar": "Contents",
   "toc_cell": false,
   "toc_position": {
    "height": "calc(100% - 180px)",
    "left": "10px",
    "top": "150px",
    "width": "337.315px"
   },
   "toc_section_display": true,
   "toc_window_display": true
  }
 },
 "nbformat": 4,
 "nbformat_minor": 1
}
