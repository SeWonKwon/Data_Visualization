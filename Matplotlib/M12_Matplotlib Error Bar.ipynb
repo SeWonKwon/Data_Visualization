{
 "cells": [
  {
   "cell_type": "code",
   "execution_count": 1,
   "metadata": {},
   "outputs": [
    {
     "data": {
      "text/plain": [
       "'3.3.2'"
      ]
     },
     "execution_count": 1,
     "metadata": {},
     "output_type": "execute_result"
    }
   ],
   "source": [
    "import matplotlib as mpl\n",
    "import matplotlib.pyplot as plt\n",
    "import numpy as np\n",
    "import pandas as pd\n",
    "mpl.__version__"
   ]
  },
  {
   "cell_type": "code",
   "execution_count": 2,
   "metadata": {
    "id": "fbZvBxq7MoN8"
   },
   "outputs": [],
   "source": [
    "plt.style.use(['seaborn-whitegrid'])"
   ]
  },
  {
   "cell_type": "markdown",
   "metadata": {
    "id": "zwGydvBLmcih"
   },
   "source": [
    "## 플롯 종류\n",
    "\n",
    "| 함수 | 설명 |\n",
    "|------|------|\n",
    "| `bar` | 막대 플롯(bar plot) 생성 |\n",
    "| `barbs` | barbs의 2차원 필드 그리기 |\n",
    "| `boxplot` | 상자 및 수염 플롯 생성 |\n",
    "| `cohere` | x와 y의 일관성 시각화 그리기 |\n",
    "| `contour` | 플롯 등고선 |\n",
    "| `errorbar` | 오류 막대 그래프 |\n",
    "| `hexbin` | 육각형 binning 플롯 생성 |\n",
    "| `hist` | 히스토그램 플롯 |\n",
    "| `imshow` | 축에 이미지 표시 |\n",
    "| `pcolor` | 2차원 배열의 유사 플롯 생성 |\n",
    "| `pcolormesh` | 사각 망사 그래프 |\n",
    "| `pie` | 파이 차트 플롯 |\n",
    "| `plot` | 플롯 라인 또는 마커 |\n",
    "| `quiver` | 화살표의 2차원 필드 생성 |\n",
    "| `sankey` | Sankey 흐름도 생성 |\n",
    "| `scatter` | x대 y의 산점도 생성 |\n",
    "| `stem` | 줄기 그래프 생성 |\n",
    "| `streamplot` | 벡터 흐름의 스트림 라인 그리기 |"
   ]
  },
  {
   "cell_type": "markdown",
   "metadata": {
    "id": "SVsXRXfnEyCm"
   },
   "source": [
    "## 오차 막대(Error Bar)\n",
    "\n",
    "* 예상 측정 오차를 나타내는 데 사용\n",
    "* 오차 막대는 값의 불확실성을 나타냄"
   ]
  },
  {
   "cell_type": "code",
   "execution_count": 3,
   "metadata": {
    "id": "q11mEAVREKS5"
   },
   "outputs": [
    {
     "data": {
      "image/png": "[encoded data removed]",
      "text/plain": [
       "<Figure size 432x288 with 1 Axes>"
      ]
     },
     "metadata": {},
     "output_type": "display_data"
    }
   ],
   "source": [
    "x = np.linspace(0, 20, 40)\n",
    "dy = 1\n",
    "y = np.sin(x) + dy * np.random.randn(40)\n",
    "\n",
    "plt.errorbar(x, y, yerr=dy, fmt='H');"
   ]
  },
  {
   "cell_type": "code",
   "execution_count": 4,
   "metadata": {
    "id": "4V1c9mC8HCVC"
   },
   "outputs": [
    {
     "data": {
      "image/png": "[encoded data removed]",
      "text/plain": [
       "<Figure size 432x288 with 1 Axes>"
      ]
     },
     "metadata": {},
     "output_type": "display_data"
    }
   ],
   "source": [
    "plt.errorbar(x, y, yerr=dy, fmt='s', color='darkblue'\n",
    "            ,ecolor='gray', elinewidth=2, capsize=0);"
   ]
  },
  {
   "cell_type": "markdown",
   "metadata": {
    "id": "GQFW5dyhFFTQ"
   },
   "source": [
    "참고문헌\n",
    "\n",
    "* Matplotlib, https://matplotlib.org/\n",
    "* Igor Milovanovi, \"Python Data Visualization Cookbook\", Packt\n",
    "* Jake VanderPlas, \"Python Data Science Handbook\", O'Reilly\n",
    "* Wes Mckinney, \"Python for Data Analysis\", O'Reilly"
   ]
  }
 ],
 "metadata": {
  "colab": {
   "collapsed_sections": [],
   "name": "_Matplotlib 한번에 제대로 배우기.ipynb",
   "provenance": [],
   "toc_visible": true
  },
  "kernelspec": {
   "display_name": "Python 3",
   "language": "python",
   "name": "python3"
  },
  "language_info": {
   "codemirror_mode": {
    "name": "ipython",
    "version": 3
   },
   "file_extension": ".py",
   "mimetype": "text/x-python",
   "name": "python",
   "nbconvert_exporter": "python",
   "pygments_lexer": "ipython3",
   "version": "3.8.5"
  },
  "toc": {
   "base_numbering": 1,
   "nav_menu": {},
   "number_sections": true,
   "sideBar": true,
   "skip_h1_title": false,
   "title_cell": "Table of Contents",
   "title_sidebar": "Contents",
   "toc_cell": false,
   "toc_position": {},
   "toc_section_display": true,
   "toc_window_display": true
  }
 },
 "nbformat": 4,
 "nbformat_minor": 1
}
