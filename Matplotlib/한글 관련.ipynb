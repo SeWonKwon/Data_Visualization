{
 "cells": [
  {
   "cell_type": "markdown",
   "id": "6983e2c3",
   "metadata": {},
   "source": [
    "colab 에서 한글 파일 설치"
   ]
  },
  {
   "cell_type": "code",
   "execution_count": 1,
   "id": "1525cd42",
   "metadata": {
    "ExecuteTime": {
     "end_time": "2021-07-14T14:36:39.336014Z",
     "start_time": "2021-07-14T14:36:39.266951Z"
    }
   },
   "outputs": [
    {
     "name": "stderr",
     "output_type": "stream",
     "text": [
      "'sudo'은(는) 내부 또는 외부 명령, 실행할 수 있는 프로그램, 또는\n",
      "배치 파일이 아닙니다.\n",
      "'sudo'은(는) 내부 또는 외부 명령, 실행할 수 있는 프로그램, 또는\n",
      "배치 파일이 아닙니다.\n",
      "'rm'은(는) 내부 또는 외부 명령, 실행할 수 있는 프로그램, 또는\n",
      "배치 파일이 아닙니다.\n"
     ]
    }
   ],
   "source": [
    "!sudo apt-get install -y fonts-nanum\n",
    "!sudo fc-cache -fv\n",
    "!rm ~/.cache/matplotlib -rf"
   ]
  },
  {
   "cell_type": "code",
   "execution_count": 2,
   "id": "7663f805",
   "metadata": {
    "ExecuteTime": {
     "end_time": "2021-07-14T14:36:39.351027Z",
     "start_time": "2021-07-14T14:36:39.337015Z"
    }
   },
   "outputs": [
    {
     "ename": "SyntaxError",
     "evalue": "invalid syntax (<ipython-input-2-e4907d50b6fb>, line 1)",
     "output_type": "error",
     "traceback": [
      "\u001b[1;36m  File \u001b[1;32m\"<ipython-input-2-e4907d50b6fb>\"\u001b[1;36m, line \u001b[1;32m1\u001b[0m\n\u001b[1;33m    런타임 - 런타임 다시 시작\u001b[0m\n\u001b[1;37m              ^\u001b[0m\n\u001b[1;31mSyntaxError\u001b[0m\u001b[1;31m:\u001b[0m invalid syntax\n"
     ]
    }
   ],
   "source": [
    "런타임 - 런타임 다시 시작\n",
    "\n",
    "matplotlib의 폰트를 Nanum 폰트로 지정"
   ]
  },
  {
   "cell_type": "code",
   "execution_count": null,
   "id": "f1ac984a",
   "metadata": {
    "ExecuteTime": {
     "end_time": "2021-07-14T14:36:39.352029Z",
     "start_time": "2021-07-14T14:36:39.267Z"
    }
   },
   "outputs": [],
   "source": [
    "plt.rc('font', family='NanumBarunGothic') "
   ]
  },
  {
   "cell_type": "markdown",
   "id": "9f37dbeb",
   "metadata": {},
   "source": [
    "jupyter 에서 한글 파일 설치"
   ]
  },
  {
   "cell_type": "markdown",
   "id": "0e582647",
   "metadata": {},
   "source": []
  },
  {
   "cell_type": "code",
   "execution_count": 4,
   "id": "676925b4",
   "metadata": {
    "ExecuteTime": {
     "end_time": "2021-07-14T14:36:46.813250Z",
     "start_time": "2021-07-14T14:36:46.799232Z"
    }
   },
   "outputs": [],
   "source": [
    "import matplotlib as mpl\n",
    "import matplotlib.pyplot as plt\n",
    "\n",
    "# 그래프에서 마이너스 폰트 깨지는 문제에 대한 대처\n",
    "mpl.rcParams['axes.unicode_minus'] = False\n",
    "\n",
    "# 한글폰트 및 글자크기, 차트크기 설정\n",
    "plt.rcParams[\"font.family\"] = 'Malgun Gothic'\n",
    "plt.rcParams[\"font.size\"] = 15\n",
    "plt.rcParams[\"figure.figsize\"] = (14,4)"
   ]
  },
  {
   "cell_type": "code",
   "execution_count": 5,
   "id": "e0115841",
   "metadata": {
    "ExecuteTime": {
     "end_time": "2021-07-14T14:36:46.843274Z",
     "start_time": "2021-07-14T14:36:46.835267Z"
    }
   },
   "outputs": [
    {
     "data": {
      "text/plain": [
       "array([  13,   16,   54,   49,   76,  -24,   -8, -102, -189, -141, -149,\n",
       "       -242, -274, -350, -394, -385, -471, -407, -314, -251, -184, -227,\n",
       "       -298, -217, -170, -198, -263, -307, -363, -304, -214, -233, -250,\n",
       "       -264, -186, -101, -161, -235, -255, -293, -371, -416, -323, -364,\n",
       "       -350, -350, -292, -302, -313, -299], dtype=int32)"
      ]
     },
     "execution_count": 5,
     "metadata": {},
     "output_type": "execute_result"
    }
   ],
   "source": [
    "import numpy as np\n",
    "\n",
    "data = np.random.randint(-100, 100, 50).cumsum()\n",
    "data"
   ]
  },
  {
   "cell_type": "code",
   "execution_count": 6,
   "id": "8285785d",
   "metadata": {
    "ExecuteTime": {
     "end_time": "2021-07-14T14:36:47.356929Z",
     "start_time": "2021-07-14T14:36:47.234219Z"
    }
   },
   "outputs": [
    {
     "data": {
      "image/png": "[encoded data removed]",
      "text/plain": [
       "<Figure size 1008x288 with 1 Axes>"
      ]
     },
     "metadata": {
      "needs_background": "light"
     },
     "output_type": "display_data"
    }
   ],
   "source": [
    "# plt.rc('font', family='Malgun Gothic')\n",
    "plt.plot(range(50), data, 'r')\n",
    "plt.title('시간별 가격 추이')\n",
    "plt.ylabel('주식 가격')\n",
    "plt.xlabel('시간(분)')\n",
    "plt.style.use('seaborn-pastel')\n",
    "plt.show()"
   ]
  },
  {
   "cell_type": "code",
   "execution_count": 9,
   "id": "318833b4",
   "metadata": {
    "ExecuteTime": {
     "end_time": "2021-07-14T14:37:22.827239Z",
     "start_time": "2021-07-14T14:37:22.815229Z"
    }
   },
   "outputs": [
    {
     "name": "stdout",
     "output_type": "stream",
     "text": [
      "버전:  3.3.4\n",
      "설치 위치:  C:\\Users\\bigne\\anaconda3\\lib\\site-packages\\matplotlib\\__init__.py\n",
      "설정 위치:  C:\\Users\\bigne\\.matplotlib\n",
      "캐시 위치:  C:\\Users\\bigne\\.matplotlib\n"
     ]
    }
   ],
   "source": [
    "\n",
    "print ('버전: ', mpl.__version__)\n",
    "print ('설치 위치: ', mpl.__file__)\n",
    "print ('설정 위치: ', mpl.get_configdir())\n",
    "print ('캐시 위치: ', mpl.get_cachedir())"
   ]
  },
  {
   "cell_type": "code",
   "execution_count": 10,
   "id": "90c31d60",
   "metadata": {
    "ExecuteTime": {
     "end_time": "2021-07-14T14:37:23.975249Z",
     "start_time": "2021-07-14T14:37:23.966243Z"
    }
   },
   "outputs": [
    {
     "name": "stdout",
     "output_type": "stream",
     "text": [
      "설정 파일 위치:  C:\\Users\\bigne\\anaconda3\\lib\\site-packages\\matplotlib\\mpl-data\\matplotlibrc\n"
     ]
    }
   ],
   "source": [
    "print ('설정 파일 위치: ', mpl.matplotlib_fname())"
   ]
  },
  {
   "cell_type": "code",
   "execution_count": 11,
   "id": "03082640",
   "metadata": {
    "ExecuteTime": {
     "end_time": "2021-07-14T14:37:25.059366Z",
     "start_time": "2021-07-14T14:37:24.950267Z"
    }
   },
   "outputs": [
    {
     "name": "stdout",
     "output_type": "stream",
     "text": [
      "392\n"
     ]
    }
   ],
   "source": [
    "import matplotlib.font_manager as fm\n",
    "font_list = fm.findSystemFonts(fontpaths=None, fontext='ttf')\n",
    "\n",
    "# ttf 폰트 전체개수\n",
    "print(len(font_list))"
   ]
  },
  {
   "cell_type": "code",
   "execution_count": 13,
   "id": "a39f82b2",
   "metadata": {
    "ExecuteTime": {
     "end_time": "2021-07-14T14:37:40.358967Z",
     "start_time": "2021-07-14T14:37:40.342440Z"
    },
    "scrolled": false
   },
   "outputs": [
    {
     "name": "stdout",
     "output_type": "stream",
     "text": [
      "392\n"
     ]
    },
    {
     "data": {
      "text/plain": [
       "['cmsy10',\n",
       " 'cmb10',\n",
       " 'DejaVu Sans Mono',\n",
       " 'DejaVu Sans Mono',\n",
       " 'STIXNonUnicode',\n",
       " 'STIXSizeFourSym',\n",
       " 'DejaVu Sans Mono',\n",
       " 'DejaVu Sans',\n",
       " 'STIXSizeFiveSym',\n",
       " 'cmmi10']"
      ]
     },
     "execution_count": 13,
     "metadata": {},
     "output_type": "execute_result"
    }
   ],
   "source": [
    "f = [f.name for f in fm.fontManager.ttflist]\n",
    "print(len(font_list))\n",
    "# 10개의 폰트 명 만 출력\n",
    "f[:10]"
   ]
  },
  {
   "cell_type": "code",
   "execution_count": 14,
   "id": "19d6b772",
   "metadata": {
    "ExecuteTime": {
     "end_time": "2021-07-14T14:37:43.411506Z",
     "start_time": "2021-07-14T14:37:43.400470Z"
    }
   },
   "outputs": [
    {
     "data": {
      "text/plain": [
       "[('Malgun Gothic', 'C:\\\\Windows\\\\Fonts\\\\malgun.ttf'),\n",
       " ('Malgun Gothic', 'C:\\\\Windows\\\\Fonts\\\\malgunbd.ttf'),\n",
       " ('Malgun Gothic', 'C:\\\\Windows\\\\Fonts\\\\malgunsl.ttf')]"
      ]
     },
     "execution_count": 14,
     "metadata": {},
     "output_type": "execute_result"
    }
   ],
   "source": [
    "[(f.name, f.fname) for f in fm.fontManager.ttflist if 'Malgun' in f.name]"
   ]
  },
  {
   "cell_type": "code",
   "execution_count": 7,
   "id": "5eef8891",
   "metadata": {
    "ExecuteTime": {
     "end_time": "2021-07-14T14:37:15.196150Z",
     "start_time": "2021-07-14T14:37:15.192146Z"
    }
   },
   "outputs": [
    {
     "name": "stdout",
     "output_type": "stream",
     "text": [
      "# 설정되어있는 폰트 사이즈\n",
      "15.0\n",
      "# 설정되어있는 폰트 글꼴\n",
      "['Malgun Gothic']\n"
     ]
    }
   ],
   "source": [
    "# 기본 설정 읽기\n",
    "import matplotlib.pyplot as plt\n",
    "\n",
    "# size, family\n",
    "print('# 설정되어있는 폰트 사이즈')\n",
    "print (plt.rcParams['font.size'] ) \n",
    "print('# 설정되어있는 폰트 글꼴')\n",
    "print (plt.rcParams['font.family'] )"
   ]
  },
  {
   "cell_type": "markdown",
   "id": "96c22f62",
   "metadata": {},
   "source": [
    "plt.rc('font', family='Malgun Gothic')\n",
    "\n",
    "그냥 이것만 적어주는게 속편함~"
   ]
  }
 ],
 "metadata": {
  "kernelspec": {
   "display_name": "Python 3",
   "language": "python",
   "name": "python3"
  },
  "language_info": {
   "codemirror_mode": {
    "name": "ipython",
    "version": 3
   },
   "file_extension": ".py",
   "mimetype": "text/x-python",
   "name": "python",
   "nbconvert_exporter": "python",
   "pygments_lexer": "ipython3",
   "version": "3.8.5"
  },
  "toc": {
   "base_numbering": 1,
   "nav_menu": {},
   "number_sections": true,
   "sideBar": true,
   "skip_h1_title": false,
   "title_cell": "Table of Contents",
   "title_sidebar": "Contents",
   "toc_cell": false,
   "toc_position": {},
   "toc_section_display": true,
   "toc_window_display": false
  }
 },
 "nbformat": 4,
 "nbformat_minor": 5
}
