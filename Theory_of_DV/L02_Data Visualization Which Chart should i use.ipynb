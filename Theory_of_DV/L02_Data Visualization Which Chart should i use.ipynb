{
 "cells": [
  {
   "cell_type": "markdown",
   "metadata": {},
   "source": [
    "<a href='https://github.com/SeWonKwon' ><div> <img src ='https://slid-capture.s3.ap-northeast-2.amazonaws.com/public/image_upload/6556674324ed41a289a354258718280d/964e5a8b-75ad-41fc-ae75-0ca66d06fbc7.png' align='left' /> </div></a>\n"
   ]
  },
  {
   "cell_type": "markdown",
   "metadata": {},
   "source": [
    "출처: https://eazybi.com/blog/data-visualization-and-chart-types"
   ]
  },
  {
   "cell_type": "markdown",
   "metadata": {},
   "source": [
    "# 차트의 목적"
   ]
  },
  {
   "cell_type": "markdown",
   "metadata": {},
   "source": [
    "1. Comparison and Ranking (비교와 순위)\n",
    "2. Composition: Part to whole (전체와 부분)\n",
    "3. Trend (경향성)\n",
    "4. Relationship: Correlation (상관관계)\n",
    "5. Distribution (분포)"
   ]
  },
  {
   "cell_type": "markdown",
   "metadata": {},
   "source": [
    "# 바른 차트의 선택\n",
    "\n",
    "* 선택전에 기초적인 질문에 답을 해보자\n",
    "\n",
    "1. 몇개의 변수를 차트에 보여 줄것인가?\n",
    "2. 데이터 포인트는 변수마다 몇개씩 보여 줄것인가?\n",
    "3. 기간별, 품목별, 그룹별 등 어떤식으로 보여 줄것인가?"
   ]
  },
  {
   "cell_type": "markdown",
   "metadata": {},
   "source": [
    "# 간단 한 차트별 비교\n",
    "|Kind|Good for|\n",
    "|:-:|:-|\n",
    "|Bar Charts| comparison|\n",
    "|Line Charts| trends |\n",
    "|Scatter plot| relationships<br>distrbutions|\n",
    "|Pie Charts|simple compositions|"
   ]
  },
  {
   "cell_type": "markdown",
   "metadata": {},
   "source": [
    "![goodchoicefor](https://extremepresentation.typepad.com/.a/6a00d8341bfd2e53ef0263ec2ab026200c-500wi)"
   ]
  },
  {
   "cell_type": "markdown",
   "metadata": {},
   "source": [
    "출처: https://extremepresentation.typepad.com/blog/2006/09/choosing_a_good.html"
   ]
  },
  {
   "cell_type": "markdown",
   "metadata": {},
   "source": [
    "# 차트별 사용 목적 구분"
   ]
  },
  {
   "cell_type": "markdown",
   "metadata": {},
   "source": [
    "## Tables"
   ]
  },
  {
   "cell_type": "markdown",
   "metadata": {},
   "source": [
    "<img src='https://eazybi.com/static/img/blog/posts/2016_03_01/data_visualization_table_chart.png' align='center' width='500' />"
   ]
  },
  {
   "cell_type": "markdown",
   "metadata": {},
   "source": [
    "\n",
    "* **best used** for\n",
    "\n",
    "    - when there are only few variables and data points\n",
    "    - comparison\n",
    "    - composition\n",
    "    - relationship analysis\n",
    "    \n"
   ]
  },
  {
   "cell_type": "markdown",
   "metadata": {},
   "source": [
    "**Use tables** when:\n",
    "\n",
    "* You need to compare or look up individual values.\n",
    "* You require precise values.\n",
    "* Values involve multiple units of measure.\n",
    "* The data has to communicate quantitative information, but not trends."
   ]
  },
  {
   "cell_type": "markdown",
   "metadata": {},
   "source": [
    "**Use charts** when the data presentation:\n",
    "\n",
    "* Is used to convey a message that is contained in the shape of the data.\n",
    "* Is used to show a relationship between many values."
   ]
  },
  {
   "cell_type": "markdown",
   "metadata": {},
   "source": [
    "**For example**\n",
    "\n",
    "if you want to show the **rate of change**, like sudden drop of temperature, it is best to use a chart that shows the slope of a line because rate of change is not easily grasped from a table."
   ]
  },
  {
   "cell_type": "markdown",
   "metadata": {},
   "source": [
    "## Column Charts, Bar Charts\n",
    "\n",
    "<img src='https://eazybi.com/static/img/blog/posts/2016_03_01/data_visualization_column_chart.png' align='center' width='500' />"
   ]
  },
  {
   "cell_type": "markdown",
   "metadata": {},
   "source": [
    "\n",
    "* **best used** for\n",
    "\n",
    "    - **compare different values** when specific values are important, and it is expected that users will look up and compare individual values between each column\n",
    "    \n"
   ]
  },
  {
   "cell_type": "markdown",
   "metadata": {},
   "source": [
    "**Best practices for column charts**\n",
    "\n",
    "* Use column charts for comparison if the number of categories is quite small — **up to five**, but not more than seven categories.   \n",
    "\n",
    "\n",
    "* If one of your data dimensions is time — including years, quarters, months, weeks, days, or hours — you should always set time dimension on the horizontal axis.\n",
    "\n",
    "\n",
    "* In charts, time should always run from left to right, never from top to bottom.\n",
    "\n",
    "\n",
    "* For column charts, the numerical axis must start at zero. Our eyes are very sensitive to the height of columns, and we can draw inaccurate conclusions when those bars are truncated.\n",
    "\n",
    "\n",
    "* Avoid using pattern lines or fills. Use border only for highlights.\n",
    "\n",
    "\n",
    "* Only use column charts to show trends if there are a reasonably-low number of data points (less than 20) and if every data point has a clearly-visible value."
   ]
  },
  {
   "cell_type": "markdown",
   "metadata": {},
   "source": [
    "## Column Histograms\n",
    "<img src='https://eazybi.com/static/img/blog/posts/2016_03_01/data_analytics_histogram_chart.png' align='center' width='500' />"
   ]
  },
  {
   "cell_type": "markdown",
   "metadata": {},
   "source": [
    "\n",
    "* **best used** for\n",
    "\n",
    "    - to present **distribution and relationships** of a **single variable** over a set of categories\n"
   ]
  },
  {
   "cell_type": "markdown",
   "metadata": {},
   "source": [
    "## Stacked Column Charts\n",
    "<img src='https://eazybi.com/static/img/blog/posts/2016_03_01/data_visualization_stacked_column_chart.png' align='center' width='500' />"
   ]
  },
  {
   "cell_type": "markdown",
   "metadata": {},
   "source": [
    "\n",
    "* **best used** for\n",
    "\n",
    "    - **composirion**\n",
    "    - not more than three or four and make sure the composing parts are relatively similar in size."
   ]
  },
  {
   "cell_type": "markdown",
   "metadata": {},
   "source": [
    "## Simplifying : Less is More\n",
    "<img src='https://eazybi.com/static/img/blog/posts/2016_03_01/data_visualization_data_ink_ratio.gif' align='center' width='500' />"
   ]
  },
  {
   "cell_type": "markdown",
   "metadata": {},
   "source": [
    "출처: [Joey Cherdarchuk](https://speakerdeck.com/player/87bb9f00ec1e01308020727faa1f9e72)"
   ]
  },
  {
   "cell_type": "markdown",
   "metadata": {},
   "source": [
    "## Bar Charts\n",
    "<img src='https://eazybi.com/static/img/blog/posts/2016_03_01/data_visualization_bar_chart.png' align='center' width='500' />"
   ]
  },
  {
   "cell_type": "markdown",
   "metadata": {},
   "source": [
    "Bar charts are essentially horizontal column charts."
   ]
  },
  {
   "cell_type": "markdown",
   "metadata": {},
   "source": [
    "\n",
    "* **best used** for\n",
    "\n",
    "    - ong category names\n",
    "    - the number of categories is **greater than seven (but not more than fifteen)**\n",
    "    - displaying a set with negative numbers.\n"
   ]
  },
  {
   "cell_type": "markdown",
   "metadata": {},
   "source": [
    "**For Example**\n",
    "\n",
    "* visitor traffic from top referral websites.\n",
    "* sales performance by sales representaives."
   ]
  },
  {
   "cell_type": "markdown",
   "metadata": {},
   "source": [
    "##  Bar Histogram Charts\n",
    "<img src='https://eazybi.com/static/img/blog/posts/2016_03_01/Population_pyramid_for_the_United_Kingdom_using_2011_census_data.png' align='center' width='500' />"
   ]
  },
  {
   "cell_type": "markdown",
   "metadata": {},
   "source": [
    "\n",
    "* **best used** for\n",
    "\n",
    "    - to present histograms \n",
    "    - only to have two items"
   ]
  },
  {
   "cell_type": "markdown",
   "metadata": {},
   "source": [
    "## Stacked Bar Charts\n",
    "<img src='https://eazybi.com/static/img/blog/posts/2016_03_01/data_visualization_stacked_columns.png' align='center' width='500' />"
   ]
  },
  {
   "cell_type": "markdown",
   "metadata": {},
   "source": [
    "\n",
    "* **best used** for\n",
    "\n",
    "    - only when a few variables, composition part.\n",
    "    - to emphasize on composition, not comparison.\n",
    "\n",
    "Note : Stacked bars are not good for comparison or relationship analysis. The only common baseline is along the left axis of the chart, so you can only reliably compare values in the first series and for the sum of all series."
   ]
  },
  {
   "cell_type": "markdown",
   "metadata": {},
   "source": [
    "## Line Charts\n",
    "<img src='https://eazybi.com/static/img/blog/posts/2016_03_01/data_visualization_line_charts.png' align='center' width='500' />"
   ]
  },
  {
   "cell_type": "markdown",
   "metadata": {},
   "source": [
    "This is Line Charts!!\n",
    "\n",
    "* With line charts, the emphasis is on the continuation or the flow of the values (a trend), but there is still some support for single value comparisons, using data markers (only with less than 20 data points.)\n",
    "\n",
    "* A line chart is also a good alternative to column charts when the chart is small."
   ]
  },
  {
   "cell_type": "markdown",
   "metadata": {},
   "source": [
    "##  Timeline Charts\n",
    "<img src='https://eazybi.com/static/img/blog/posts/2016_03_01/data_visualization_timeline_charts.png' align='center' width='500' />"
   ]
  },
  {
   "cell_type": "markdown",
   "metadata": {},
   "source": [
    "The only difference between Line Charts and Timeline Charts is in functionality — most timeline charts will let you zoom in and out and compress or stretch the time axis to see more details or overall trends"
   ]
  },
  {
   "cell_type": "markdown",
   "metadata": {},
   "source": [
    "* **examples** \n",
    "\n",
    "    * stock market price changes over time,\n",
    "    * website visitors per day for the past 30 days,\n",
    "    * sales numbers by day for the previous quarter."
   ]
  },
  {
   "cell_type": "markdown",
   "metadata": {},
   "source": [
    "### The Dos and Don’ts for Line Charts\n",
    "\n",
    "* Use lines to present continuous data in an interval scale, where intervals are equal in size.\n",
    "\n",
    "\n",
    "\n",
    "* For line charts, the axis may not start from zero if the intended message of the chart is the rate of change or overall trend, not exact values or comparison. It’s best to start the axis with zero for wide audiences because some people may otherwise interpret the chart incorrectly.\n",
    "\n",
    "\n",
    "* In line charts, time should always run from left to right.\n",
    "\n",
    "\n",
    "* Do not skip values for consistent data intervals presenting trend information, for example, certain days with zero values.\n",
    "\n",
    "\n",
    "* Remove guidelines to emphasize the trend, rate of change, and to reduce distraction.\n",
    "\n",
    "\n",
    "\n",
    "* Use a proper aspect ratio to show important information and avoid dramatic slope effects. For the best perception, aim for a 45-degree slope"
   ]
  },
  {
   "cell_type": "markdown",
   "metadata": {},
   "source": [
    "## Area Charts\n",
    "<img src='https://eazybi.com/static/img/blog/posts/2016_03_01/data_visualization_area_charts.png' align='center' width='500' />"
   ]
  },
  {
   "cell_type": "markdown",
   "metadata": {},
   "source": [
    "An area chart is essentially a line chart — good for trends and some **comparisons**. Area charts will fill up the area below the line, so the best use for this type of chart is for presenting accumulative value changes over time, like item stock, number of employees, or a savings account.\n",
    "\n",
    "\n",
    "\n",
    "**Do not use area charts to present fluctuating values**, like the stock market or prices changes."
   ]
  },
  {
   "cell_type": "markdown",
   "metadata": {},
   "source": [
    "## Stacked Area\n",
    "<img src='https://eazybi.com/static/img/blog/posts/2016_03_01/data_visualization_stacked_area_charts.png' align='center' width='500' />"
   ]
  },
  {
   "cell_type": "markdown",
   "metadata": {},
   "source": [
    "Stacked area charts are best used to show changes in composition over time. A good example would be the changes of market share among top players or revenue shares by product line over a period of time.\n",
    "\n",
    "\n",
    "\n",
    "Stacked area charts might be colorful and fun, but you should use them with caution, because they can quickly become a mess. Don’t use them if you need an exact comparison and don’t stack together more than three to five categories."
   ]
  },
  {
   "cell_type": "markdown",
   "metadata": {},
   "source": [
    "##  Pie Charts and Donut Charts\n",
    "<img src='https://eazybi.com/static/img/blog/posts/2016_03_01/data_visualization_pie_chart.png' align='center' width='500' />"
   ]
  },
  {
   "cell_type": "markdown",
   "metadata": {},
   "source": [
    "Who doesn’t love pies or donuts, right? Not in data visualization, though. These charts are among the most frequently used and also misused charts. The one above is a good example of a terrible, useless pie chart - too many components, very similar values."
   ]
  },
  {
   "cell_type": "markdown",
   "metadata": {},
   "source": [
    "A pie chart typically represents numbers in percentages, used to visualize a part to whole relationship or a composition. Pie charts are not meant to compare individual sections to each other or to represent exact values (you should use a bar chart for that)"
   ]
  },
  {
   "cell_type": "markdown",
   "metadata": {},
   "source": [
    "<img src='https://eazybi.com/static/img/blog/posts/2016_03_01/data_visualization_pie_chart_angles.png' align='center' width='500' />"
   ]
  },
  {
   "cell_type": "markdown",
   "metadata": {},
   "source": [
    "When possible, avoid pie charts and donuts. The human mind thinks linearly but, when it comes to angles and areas, most of us can’t judge them well."
   ]
  },
  {
   "cell_type": "markdown",
   "metadata": {},
   "source": [
    "* **best** for\n",
    "    - **composition** not for comparision\n",
    "    - only for simple not complicated"
   ]
  },
  {
   "cell_type": "markdown",
   "metadata": {},
   "source": [
    "## Stacked Donut Charts\n",
    "<img src='https://eazybi.com/static/img/blog/posts/2016_03_01/data_visualization_donut_chart.png' align='center' width='500' />"
   ]
  },
  {
   "cell_type": "markdown",
   "metadata": {},
   "source": [
    "I would not recommend using stacked donut charts at all! I mean, like, never! You might think that you could use a stacked donut to present composition, while allowing some comparison (with an emphasis on composition), but it would perform badly for both. Use stacked column charts instead."
   ]
  },
  {
   "cell_type": "markdown",
   "metadata": {},
   "source": [
    "### Less is More\n",
    "<img src='https://eazybi.com/static/img/blog/posts/2016_03_01/data_visualization_pie_to_bar.gif' align='center' width='500' />"
   ]
  },
  {
   "cell_type": "markdown",
   "metadata": {},
   "source": [
    "출처: [Joey Cherdarchuk](https://speakerdeck.com/player/87bb9f00ec1e01308020727faa1f9e72)"
   ]
  },
  {
   "cell_type": "markdown",
   "metadata": {},
   "source": [
    "### The Dos and Don’ts for Pie charts\n",
    "\n",
    "For those of you who still feel sentimental about the old PowerPoint Pie charts, and want to keep using them, there are some things to keep in mind.\n",
    "\n",
    "\n",
    "* Make sure that the total sum of all segments equals **100 percent**.\n",
    "\n",
    "\n",
    "* Use pie charts only if you have **less than six categories**, unless there’s a **clear winner** you want to focus on.\n",
    "\n",
    "\n",
    "* Ideally, there should be **only two categories**, like men and women visiting your website, or only one category, like a market share of your company, compared to the whole market.\n",
    "\n",
    "\n",
    "\n",
    "* **Don’t** use a pie chart if the category values are **almost identical or completely different**. You could add labels, but that’s a patch, not an improvement.\n",
    "\n",
    "\n",
    "* **Don’t use 3D or blow apart effects** — they reduce comprehension and show incorrect proportions."
   ]
  },
  {
   "cell_type": "markdown",
   "metadata": {},
   "source": [
    "##  Scatter Charts\n",
    "<img src='https://eazybi.com/static/img/blog/posts/2016_03_01/data_visualization_scatter_plot_chart.png' align='center' width='500' />"
   ]
  },
  {
   "cell_type": "markdown",
   "metadata": {},
   "source": [
    "* **best** for\n",
    "    - correlation and distribution\n",
    "    - showing the realtionship between two different vaiables\n",
    "    - one correlates to another or not"
   ]
  },
  {
   "cell_type": "markdown",
   "metadata": {},
   "source": [
    "### Bubble Charts\n",
    "<img src='https://eazybi.com/static/img/blog/posts/2016_03_01/data_visualization_bubble_chart.png' align='center' width='500' />"
   ]
  },
  {
   "cell_type": "markdown",
   "metadata": {},
   "source": [
    "* **best** for\n",
    "    - to add another dimension to a scatter plot chart.\n",
    "    - if bubbles too small to recognize , use labels.\n"
   ]
  },
  {
   "cell_type": "markdown",
   "metadata": {},
   "source": [
    "Use Scatter and Bubble charts to:\n",
    "\n",
    "\n",
    "\n",
    "* Present relationships between two (scatter) or three (bubble) numerical variables,\n",
    "\n",
    "\n",
    "* Plot two or three sets of variables on one x-y coordinate plane,\n",
    "\n",
    "\n",
    "* Turn the horizontal axis into a logarithmic scale, thus showing the relationships between more widely distributed elements.\n",
    "\n",
    "\n",
    "* Present patterns in large sets of data, linear or non-linear trends, correlations, clusters, or outliers.\n",
    "\n",
    "\n",
    "* Compare large number of data points without regard to time. The more data you include in a scatter chart, the better comparisons you can make.\n",
    "\n",
    "\n",
    "* Present relationships, but not exact values for comparisons."
   ]
  },
  {
   "cell_type": "markdown",
   "metadata": {},
   "source": [
    "##  Map Charts\n",
    "<img src='https://eazybi.com/static/img/blog/posts/2016_03_01/data_visualization_map_chart.png' align='center' width='500' />"
   ]
  },
  {
   "cell_type": "markdown",
   "metadata": {},
   "source": [
    "Map charts are good for giving your numbers a geographical context to quickly spot best and worst performing areas, trends, and outliers. If you have any kind of location data like coordinates, country names, state names or abbreviations, or addresses, you can plot related data on a map.\n",
    "\n",
    "\n",
    "\n",
    "Maps won’t be very good for comparing exact values, because map charts are usually color scaled and humans are quite bad at distinguishing shades of colors. Sometimes it’s better to use overlay bubbles or numbers if you need to convey exact numbers or enable comparison.\n",
    "\n",
    "\n",
    "\n",
    "\n",
    "A good example would be website visitors by country, state, or city, or product sales by state, region or city.\n",
    "\n",
    "\n",
    "\n",
    "\n",
    "But, don’t use maps for absolutely everything that has a geographical dimension. Today, almost any data has a geographical dimension, but it doesn’t mean that you should display it on a map."
   ]
  },
  {
   "cell_type": "markdown",
   "metadata": {},
   "source": [
    "<img src='https://eazybi.com/static/img/blog/posts/2016_03_01/to_much_data_on_map.jpg' align='center' width='500' />"
   ]
  },
  {
   "cell_type": "markdown",
   "metadata": {},
   "source": [
    "When to use map charts?\n",
    "\n",
    "* If you want to display quantitative information on a map.\n",
    "\n",
    "\n",
    "* To present spatial relationships and patterns.\n",
    "\n",
    "\n",
    "* When a regional context for your data is important.\n",
    "\n",
    "\n",
    "* To get an overview of the distribution across geographic locations.\n",
    "\n",
    "\n",
    "* Only if your data is standardized (that is, it has the same data format and scale for the whole set)."
   ]
  },
  {
   "cell_type": "markdown",
   "metadata": {},
   "source": [
    "##  Gantt Charts\n",
    "<img src='https://eazybi.com/static/img/blog/posts/2016_03_01/data_visualization_gantt_chart.png' align='center' width='500' />"
   ]
  },
  {
   "cell_type": "markdown",
   "metadata": {},
   "source": [
    "Gantt charts were adapted by Karol Adamiecki in 1896. But the name comes from Henry Gantt who independently adapted this bar chart type much later, in the 1910s.\n",
    "\n",
    "\n",
    "\n",
    "Gantt charts are good for planning and scheduling projects. Gantt charts are essentially project maps, illustrating what needs to be done, in what order, and by what deadline. You can visualize the total time a project should take, the resources involved, as well as the order and dependencies of tasks.\n",
    "\n",
    "\n",
    "\n",
    "But project planning is not the only application for a Gantt chart. It can also be used in rental businesses, displaying a list of items for rent (cars, rooms, apartments) and their rental periods."
   ]
  },
  {
   "cell_type": "markdown",
   "metadata": {},
   "source": [
    "\n",
    "<img src='https://eazybi.com/static/img/blog/posts/2016_03_01/data_visualization_map_chart_example.png' align='center' width='500' />"
   ]
  },
  {
   "cell_type": "markdown",
   "metadata": {},
   "source": [
    "To display a Gantt chart, you would typically need, at least, a start date and an end date. For more advanced Gantt charts, you’d enter a completion percentage and/or a dependency from another task."
   ]
  },
  {
   "cell_type": "markdown",
   "metadata": {},
   "source": [
    "##  Gauge Charts\n",
    "<img src='https://eazybi.com/static/img/blog/posts/2016_03_01/data_visualization_guage_chart.png' align='center' width='500' />"
   ]
  },
  {
   "cell_type": "markdown",
   "metadata": {},
   "source": [
    "Gauge charts are good for displaying KPIs (Key Performance Indicators). They typically display a single key value, comparing it to a color-coded performance level indicator, typically showing green for “good” and red for “trouble.”\n",
    "\n",
    "\n",
    "\n",
    "A Dashboard would be the most obvious place to use Gauge charts. There, all the KPIs will be in one place and will give a quick “health check” for your project or company."
   ]
  },
  {
   "cell_type": "markdown",
   "metadata": {},
   "source": [
    "Gauges are a great choice to:\n",
    "\n",
    "* Show progress toward a goal.\n",
    "* Represent a percentile measure, like a KPI.\n",
    "* Show an exact value and meaning of a single measure.\n",
    "* Display a single bit of information that can be quickly scanned and understood."
   ]
  },
  {
   "cell_type": "markdown",
   "metadata": {},
   "source": [
    "The bad side of gauge charts is that they take up a lot of space and typically only show a single point of data. If there are many gauge charts compared against a single performance scale, a column chart with threshold indicators would be a more effective and compact option."
   ]
  },
  {
   "cell_type": "markdown",
   "metadata": {},
   "source": [
    "##  Multi Axes Charts\n",
    "<img src='https://eazybi.com/static/img/blog/posts/2016_03_01/data_visualization_multi_axes_charts.png' align='center' width='500' />"
   ]
  },
  {
   "cell_type": "markdown",
   "metadata": {},
   "source": [
    "There are times when a simple chart just cannot tell the whole story. If you want to show relationships and compare variables on vastly different scales, the best option might be to have multiple axes.\n",
    "\n",
    "\n",
    "\n",
    "\n",
    "A multi-axes chart will let you plot data using two or more y-axes and one shared x-axis. But it comes at a cost. That is, the charts are much more difficult to read and understand.\n",
    "\n",
    "\n",
    "\n",
    "\n",
    "Multi-axes charts might be good for presenting common trends, correlations (or the lack thereof) and the relationships between several data sets. But multi-axes charts are not good for exact comparisons (because of different scales) and you should not use this type if you need to show exact values."
   ]
  },
  {
   "cell_type": "markdown",
   "metadata": {},
   "source": [
    "Use multi-axes charts if you want to:\n",
    "\n",
    "* Display a line chart and a column chart with the same X-axis.\n",
    "* Compare multiple measures with different value ranges.\n",
    "* Illustrate the relationships, correlation, or the lack thereof between two or more measures in one visualization.\n",
    "* Save canvas space (if the chart does not become too complicated)."
   ]
  },
  {
   "cell_type": "markdown",
   "metadata": {},
   "source": [
    "#  Data Visualization Do’s and Don’ts – A General Conclusion\n",
    "\n",
    "* **Time axis.** When using time in charts, set it on the horizontal axis. Time should run from left to right. Do not skip values (time periods), even if there are no values.\n",
    "\n",
    "\n",
    "* **Proportional values.** The numbers in a chart (displayed as bar, area, bubble, or other physically measured element in the chart) should be directly proportional to the numerical quantities presented.\n",
    "\n",
    "\n",
    "* **Data-Ink Ratio.** Remove any excess information, lines, colors, and text from a chart that does not add value. More about data-ink ratio\n",
    "\n",
    "\n",
    "\n",
    "* **Sorting.** For column and bar charts, to enable easier comparison, sort your data in ascending or descending order by the value, not alphabetically. This applies also to pie charts.\n",
    "\n",
    "\n",
    "* **Legend.** You don’t need a legend if you have only one data category.\n",
    "\n",
    "\n",
    "* **Labels.** Use labels directly on the line, column, bar, pie, etc., whenever possible, to avoid indirect look-up.\n",
    "\n",
    "\n",
    "* **Inflation adjustment.** When using monetary values in a long-term series, make sure to adjust for inflation. (EU inflation rates, US inflation rates)\n",
    "\n",
    "\n",
    "\n",
    "* **Colors.** In any chart, don’t use more than six colors.\n",
    "\n",
    "\n",
    "* **Colors.** For comparing the same value at different time periods, use the same color in a different intensity (from light to dark).\n",
    "\n",
    "\n",
    "\n",
    "* **Colors.** For different categories, use different colors. The most widely used colors are black, white, red, green, blue, and yellow.\n",
    "\n",
    "\n",
    "\n",
    "* **Colors.** Keep the same color palette or style for all charts in the series, and same axes and labels for similar charts to make your charts consistent and easy to compare.\n",
    "\n",
    "\n",
    "\n",
    "* **Colors.** Check how your charts would look when printed out in gray-scale. If you cannot distinguish color differences, you should change hue and saturation of colors.\n",
    "\n",
    "\n",
    "\n",
    "* **Colors.** Seven to 10 percent of men have color deficiency. Keep that in mind when creating charts, ensuring they are readable for color-blind people. Use Vischeck to test your images. Or, try to use color palettes that are friendly to color-blind people.\n",
    "\n",
    "\n",
    "\n",
    "* **Data Complexity.** Don’t add too much information to a single chart. If necessary, split data in two charts, use highlighting, simplify colors, or change chart type.\n",
    "\n",
    "<img src='https://eazybi.com/static/img/blog/posts/2016_03_01/chart_too_complex.png' align='center' width='300' />"
   ]
  },
  {
   "cell_type": "markdown",
   "metadata": {},
   "source": [
    "**Reference**\n",
    "\n",
    "* <a href='https://github.com/SeWonKwon' ><div> <img src ='https://slid-capture.s3.ap-northeast-2.amazonaws.com/public/image_upload/6556674324ed41a289a354258718280d/964e5a8b-75ad-41fc-ae75-0ca66d06fbc7.png' align='left' /> </div></a>\n",
    "\n",
    "<br>\n",
    "\n",
    "* [이수안 컴퓨터 연구소](http://suanlab.com/)\n",
    "* [Google Chart](https://developers-dot-devsite-v2-prod.appspot.com/chart)\n",
    "\n",
    "* https://eazybi.com/blog/data-visualization-and-chart-types"
   ]
  }
 ],
 "metadata": {
  "kernelspec": {
   "display_name": "Python 3",
   "language": "python",
   "name": "python3"
  },
  "language_info": {
   "codemirror_mode": {
    "name": "ipython",
    "version": 3
   },
   "file_extension": ".py",
   "mimetype": "text/x-python",
   "name": "python",
   "nbconvert_exporter": "python",
   "pygments_lexer": "ipython3",
   "version": "3.8.5"
  },
  "toc": {
   "base_numbering": 1,
   "nav_menu": {},
   "number_sections": true,
   "sideBar": true,
   "skip_h1_title": false,
   "title_cell": "Table of Contents",
   "title_sidebar": "Contents",
   "toc_cell": false,
   "toc_position": {},
   "toc_section_display": true,
   "toc_window_display": false
  }
 },
 "nbformat": 4,
 "nbformat_minor": 4
}
