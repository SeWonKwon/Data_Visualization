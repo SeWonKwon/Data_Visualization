{
 "cells": [
  {
   "cell_type": "markdown",
   "metadata": {},
   "source": [
    "# 데이터 시각화(Data Visualization)"
   ]
  },
  {
   "cell_type": "markdown",
   "metadata": {},
   "source": [
    "○ 데이터 분석 결과를 쉽게 이해할 수 있도록 시각적으로 표현하고 전달되는 과정<br><br>\n",
    "    ○ 데이터 시각화의 목적은 도표(graph)라는 수단을 통해 정보를 명확하고 효과적으로 전달하는 것 </div>\n",
    "\n"
   ]
  },
  {
   "cell_type": "markdown",
   "metadata": {},
   "source": [
    "<p><div> <img align = 'left' width='300' src='https://upload.wikimedia.org/wikipedia/commons/thumb/9/90/Kencf0618FacebookNetwork.jpg/220px-Kencf0618FacebookNetwork.jpg' /></div>○ 데이터 분석 결과를 쉽게 이해할 수 있도록 <br>&nbsp;&nbsp; 시각적으로 표현하고 전달되는 과정<br><br>\n",
    "    ○ 데이터 시각화의 목적은 도표(graph)라는<br>&nbsp;&nbsp; 수단을 통해 정보를 명확하고 효과적으로 전달하는 것 </div>\n",
    "\n",
    "\n",
    "    \n",
    "\n",
    "</p>\n"
   ]
  },
  {
   "cell_type": "markdown",
   "metadata": {},
   "source": [
    "* 디지털 시대의 학습자는 영상, 디지털 매체를 비롯해 SNS, 클라우드 서비스 등을 통한 무한정의 데이터에 노출되어 있으며, 이와 같은 환경의 변화에 따라 데이터 표현과 수용방식의 변화가 요구\n",
    "\n",
    "\n",
    "* 수많은 정보들을 시각적으로 묘사하고 필요한 정보를 효율적이고 명확하게 제공하는 데이터 시각화의 필요성이 증가\n",
    "\n",
    "\n",
    "* 전통적인 시각화 기술은 주로 시스템 로그나 실험 분석 결과 등에 대한 통계정보를 그래프로 보여주는 방식인데 반해, 빅데이터의 시각화 측면에서는 모든 데이터를 살펴보는것에 제약이 따르기 때문에 시각화의 기술적인 요소와 더불어 데이터를 요약하고, 한 눈에 살펴볼 수 있도록 돕는 시각화 방법론적 요소의 중요성이 커지고 있음\n",
    "\n",
    "\n",
    "* 데이터 시각화에서는 미적 형태와 기능성 두 가지를 모두 가져가는 것으로 대개 데이터들의 연결과 그룹핑을 표현하는데 초점을 둠\n"
   ]
  },
  {
   "cell_type": "markdown",
   "metadata": {},
   "source": [
    "[https://ko.wikipedia.org/wiki/%EB%8D%B0%EC%9D%B4%ED%84%B0_%EC%8B%9C%EA%B0%81%ED%99%94](https://ko.wikipedia.org/wiki/%EB%8D%B0%EC%9D%B4%ED%84%B0_%EC%8B%9C%EA%B0%81%ED%99%94)"
   ]
  },
  {
   "cell_type": "markdown",
   "metadata": {},
   "source": [
    "# Visualization 관련 영상 및 site"
   ]
  },
  {
   "cell_type": "markdown",
   "metadata": {},
   "source": [
    "http://seeingdata.org/"
   ]
  },
  {
   "cell_type": "markdown",
   "metadata": {},
   "source": [
    "https://youtu.be/sb1UkU5rR90"
   ]
  },
  {
   "cell_type": "markdown",
   "metadata": {},
   "source": [
    "# 데이터 시각화 7단계 (Ben Fry)"
   ]
  },
  {
   "cell_type": "markdown",
   "metadata": {},
   "source": [
    "<div> <img src='https://user-images.githubusercontent.com/73154316/123608223-891c4980-d839-11eb-8c60-5a22e34b22b4.jpeg' /> </div>"
   ]
  },
  {
   "cell_type": "markdown",
   "metadata": {},
   "source": [
    "# 나폴레옹 진군 맵"
   ]
  },
  {
   "cell_type": "markdown",
   "metadata": {},
   "source": [
    "![나폴레옹 진군 맵](https://upload.wikimedia.org/wikipedia/commons/thumb/2/29/Minard.png/800px-Minard.png)"
   ]
  },
  {
   "cell_type": "markdown",
   "metadata": {},
   "source": [
    "# 콜레라 발병 맵( 1854년 Broad 가)"
   ]
  },
  {
   "cell_type": "markdown",
   "metadata": {},
   "source": [
    "![콜레라 발명 맵](https://upload.wikimedia.org/wikipedia/commons/thumb/2/27/Snow-cholera-map-1.jpg/350px-Snow-cholera-map-1.jpg)\n",
    "\n",
    "- 1854년 8월 31일, 영국 역사상 가장 심각한 콜레라가 런던 소호에서 발병하여 사흘만에 127명이 숨졌고, 열흘이 지난 후 사망자는 500명으로 늘어남\n",
    "- 의사였던 존 스노우(John Snow)는 콜레라가 창궐한 원인을 알고 싶어 콜레라가 발생한 소호 지역의 주택을 직접 찾아다니며 정보를 수집\n",
    "- 소호 지역이 그려진 지도 위에 콜레라로 사망한 사람들의 집을 표시했더니 당시의 지역 주민들이 사용하던 워터 펌프를 중심으로 사망자들이 모여 있다는 사실을 발견\n"
   ]
  },
  {
   "cell_type": "markdown",
   "metadata": {},
   "source": [
    "# 크림 전쟁 당시 사망 원인"
   ]
  },
  {
   "cell_type": "markdown",
   "metadata": {},
   "source": [
    "<div> <img align= 'center' width='600' src='https://upload.wikimedia.org/wikipedia/commons/thumb/1/17/Nightingale-mortality.jpg/220px-Nightingale-mortality.jpg' /> </div>\n",
    "\n",
    "* 전장에서 병사들을 치료하던 나이팅게일은 전장에서의 부상으로 인한 사망자 보다, 병원의 열악한 위생환경으로 인해 사망하는 사람들이 더 많다는 것을 알게됨이를 개선하기위해 예산을 마련하고자 글과 표를 이용해 이를 의회의원들에게 적극 알리고자 했음\n",
    "\n",
    "\n",
    "\n",
    "* 그러나 전시 중에 글과 표만으로 의회의원들을 설득하기에는 역부족이었고, 지원은 쉽게 이루어지지 않았음\n",
    "\n",
    "\n",
    "\n",
    "* 이때 나이팅게일이 정보를 조금 더 효과적으로 전달 하고자하는 목적으로 만들었던 것이 바로 로즈다이어그램(나이팅게일차트)\n"
   ]
  },
  {
   "cell_type": "markdown",
   "metadata": {},
   "source": [
    "# 새로운 역사 차트"
   ]
  },
  {
   "cell_type": "markdown",
   "metadata": {},
   "source": [
    "<div> <img align='center' src='https://upload.wikimedia.org/wikipedia/commons/thumb/1/1e/A_New_Chart_of_History_color.jpg/360px-A_New_Chart_of_History_color.jpg' width='700' /> </div>"
   ]
  },
  {
   "cell_type": "markdown",
   "metadata": {},
   "source": [
    "https://en.wikipedia.org/wiki/A_New_Chart_of_History"
   ]
  },
  {
   "cell_type": "code",
   "execution_count": null,
   "metadata": {},
   "outputs": [],
   "source": []
  }
 ],
 "metadata": {
  "kernelspec": {
   "display_name": "Python 3",
   "language": "python",
   "name": "python3"
  },
  "language_info": {
   "codemirror_mode": {
    "name": "ipython",
    "version": 3
   },
   "file_extension": ".py",
   "mimetype": "text/x-python",
   "name": "python",
   "nbconvert_exporter": "python",
   "pygments_lexer": "ipython3",
   "version": "3.8.5"
  },
  "toc": {
   "base_numbering": 1,
   "nav_menu": {},
   "number_sections": true,
   "sideBar": true,
   "skip_h1_title": false,
   "title_cell": "Table of Contents",
   "title_sidebar": "Contents",
   "toc_cell": false,
   "toc_position": {},
   "toc_section_display": true,
   "toc_window_display": false
  }
 },
 "nbformat": 4,
 "nbformat_minor": 4
}
